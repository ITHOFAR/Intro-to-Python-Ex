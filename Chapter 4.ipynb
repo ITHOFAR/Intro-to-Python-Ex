{
 "cells": [
  {
   "cell_type": "code",
   "execution_count": 35,
   "metadata": {
    "collapsed": true
   },
   "outputs": [],
   "source": [
    "def isPalindrome(s):\n",
    "    \n",
    "    def toChars(s):\n",
    "        s = s.lower()\n",
    "        letters = ''\n",
    "        for c in s:\n",
    "            if c in 'abcdefghijklmnopqrstuvwxyz':\n",
    "                letters = letters + c\n",
    "        return letters\n",
    "        \n",
    "    def isPal(s):\n",
    "        print(' isPal called with', s)\n",
    "        print(len(s))\n",
    "        if len(s) <= 1:\n",
    "            print(' About to return True from base case')\n",
    "            return True\n",
    "        else:\n",
    "            answer = s[0] == s[-1] and isPal(s[1:-1])\n",
    "            print(' About to return', answer, 'for', s)\n",
    "            return answer\n",
    "  \n",
    "    return isPal(toChars(s))"
   ]
  },
  {
   "cell_type": "code",
   "execution_count": 38,
   "metadata": {
    "collapsed": false
   },
   "outputs": [
    {
     "name": "stdout",
     "output_type": "stream",
     "text": [
      " isPal called with doaggod\n",
      "7\n",
      " isPal called with oaggo\n",
      "5\n",
      " isPal called with agg\n",
      "3\n",
      " About to return False for agg\n",
      " About to return False for oaggo\n",
      " About to return False for doaggod\n"
     ]
    },
    {
     "data": {
      "text/plain": [
       "False"
      ]
     },
     "execution_count": 38,
     "metadata": {},
     "output_type": "execute_result"
    }
   ],
   "source": [
    "isPalindrome(\"doagGod\")"
   ]
  },
  {
   "cell_type": "code",
   "execution_count": null,
   "metadata": {
    "collapsed": false
   },
   "outputs": [],
   "source": []
  },
  {
   "cell_type": "code",
   "execution_count": 24,
   "metadata": {
    "collapsed": false
   },
   "outputs": [
    {
     "data": {
      "text/plain": [
       "5"
      ]
     },
     "execution_count": 24,
     "metadata": {},
     "output_type": "execute_result"
    }
   ],
   "source": [
    "len(\"Hello\")"
   ]
  },
  {
   "cell_type": "code",
   "execution_count": 26,
   "metadata": {
    "collapsed": false
   },
   "outputs": [
    {
     "name": "stdout",
     "output_type": "stream",
     "text": [
      "H\n",
      "e\n",
      "l\n",
      "l\n",
      "o\n"
     ]
    }
   ],
   "source": [
    "for c in \"Hello\":\n",
    "    print(c)"
   ]
  },
  {
   "cell_type": "code",
   "execution_count": 39,
   "metadata": {
    "collapsed": true
   },
   "outputs": [],
   "source": [
    "def fib(x):\n",
    "    global numFibCalls\n",
    "    numFibCalls += 1\n",
    "    if x == 0 or x == 1:\n",
    "        return 1\n",
    "    else:\n",
    "        return fib(x-1) + fib(x-2)\n",
    "    "
   ]
  },
  {
   "cell_type": "code",
   "execution_count": 46,
   "metadata": {
    "collapsed": false
   },
   "outputs": [],
   "source": [
    "def testFib(n):\n",
    "    for i in range(n+1):\n",
    "        global numFibCalls\n",
    "        numFibCalls = 0\n",
    "        print('fib of', i, '=', fib(i))\n",
    "        print('fib called', numFibCalls, 'times') "
   ]
  },
  {
   "cell_type": "code",
   "execution_count": null,
   "metadata": {
    "collapsed": false
   },
   "outputs": [
    {
     "name": "stdout",
     "output_type": "stream",
     "text": [
      "fib of 0 = 1\n",
      "fib called 1 times\n",
      "fib of 1 = 1\n",
      "fib called 1 times\n",
      "fib of 2 = 2\n",
      "fib called 3 times\n",
      "fib of 3 = 3\n",
      "fib called 5 times\n",
      "fib of 4 = 5\n",
      "fib called 9 times\n",
      "fib of 5 = 8\n",
      "fib called 15 times\n",
      "fib of 6 = 13\n",
      "fib called 25 times\n",
      "fib of 7 = 21\n",
      "fib called 41 times\n",
      "fib of 8 = 34\n",
      "fib called 67 times\n",
      "fib of 9 = 55\n",
      "fib called 109 times\n",
      "fib of 10 = 89\n",
      "fib called 177 times\n",
      "fib of 11 = 144\n",
      "fib called 287 times\n",
      "fib of 12 = 233\n",
      "fib called 465 times\n",
      "fib of 13 = 377\n",
      "fib called 753 times\n",
      "fib of 14 = 610\n",
      "fib called 1219 times\n",
      "fib of 15 = 987\n",
      "fib called 1973 times\n",
      "fib of 16 = 1597\n",
      "fib called 3193 times\n",
      "fib of 17 = 2584\n",
      "fib called 5167 times\n",
      "fib of 18 = 4181\n",
      "fib called 8361 times\n",
      "fib of 19 = 6765\n",
      "fib called 13529 times\n",
      "fib of 20 = 10946\n",
      "fib called 21891 times\n",
      "fib of 21 = 17711\n",
      "fib called 35421 times\n",
      "fib of 22 = 28657\n",
      "fib called 57313 times\n",
      "fib of 23 = 46368\n",
      "fib called 92735 times\n",
      "fib of 24 = 75025\n",
      "fib called 150049 times\n",
      "fib of 25 = 121393\n",
      "fib called 242785 times\n",
      "fib of 26 = 196418\n",
      "fib called 392835 times\n",
      "fib of 27 = 317811\n",
      "fib called 635621 times\n",
      "fib of 28 = 514229\n",
      "fib called 1028457 times\n",
      "fib of 29 = 832040\n",
      "fib called 1664079 times\n",
      "fib of 30 = 1346269\n",
      "fib called 2692537 times\n",
      "fib of 31 = 2178309\n",
      "fib called 4356617 times\n",
      "fib of 32 = 3524578\n",
      "fib called 7049155 times\n",
      "fib of 33 = 5702887\n",
      "fib called 11405773 times\n",
      "fib of 34 = 9227465\n",
      "fib called 18454929 times\n",
      "fib of 35 = 14930352\n",
      "fib called 29860703 times\n",
      "fib of 36 = 24157817\n",
      "fib called 48315633 times\n",
      "fib of 37 = 39088169\n",
      "fib called 78176337 times\n",
      "fib of 38 = 63245986\n",
      "fib called 126491971 times\n",
      "fib of 39 = 102334155\n",
      "fib called 204668309 times\n",
      "fib of 40 = 165580141\n",
      "fib called 331160281 times\n",
      "fib of 41 = 267914296\n",
      "fib called 535828591 times\n",
      "fib of 42 = 433494437\n",
      "fib called 866988873 times\n"
     ]
    }
   ],
   "source": [
    "testFib(78)"
   ]
  },
  {
   "cell_type": "code",
   "execution_count": null,
   "metadata": {
    "collapsed": false
   },
   "outputs": [],
   "source": []
  },
  {
   "cell_type": "code",
   "execution_count": null,
   "metadata": {
    "collapsed": false
   },
   "outputs": [],
   "source": []
  },
  {
   "cell_type": "code",
   "execution_count": null,
   "metadata": {
    "collapsed": true
   },
   "outputs": [],
   "source": []
  },
  {
   "cell_type": "code",
   "execution_count": null,
   "metadata": {
    "collapsed": true
   },
   "outputs": [],
   "source": []
  },
  {
   "cell_type": "code",
   "execution_count": null,
   "metadata": {
    "collapsed": true
   },
   "outputs": [],
   "source": []
  },
  {
   "cell_type": "code",
   "execution_count": null,
   "metadata": {
    "collapsed": true
   },
   "outputs": [],
   "source": []
  },
  {
   "cell_type": "code",
   "execution_count": null,
   "metadata": {
    "collapsed": true
   },
   "outputs": [],
   "source": []
  }
 ],
 "metadata": {
  "kernelspec": {
   "display_name": "Python 3",
   "language": "python",
   "name": "python3"
  },
  "language_info": {
   "codemirror_mode": {
    "name": "ipython",
    "version": 3
   },
   "file_extension": ".py",
   "mimetype": "text/x-python",
   "name": "python",
   "nbconvert_exporter": "python",
   "pygments_lexer": "ipython3",
   "version": "3.5.1"
  }
 },
 "nbformat": 4,
 "nbformat_minor": 0
}
