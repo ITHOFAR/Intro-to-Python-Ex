{
 "cells": [
  {
   "cell_type": "code",
   "execution_count": 13,
   "metadata": {
    "collapsed": false
   },
   "outputs": [],
   "source": [
    "def findPayment(loan, r, m):\n",
    "    return loan*((r*(l+r)**m)/((l+r)**m - 1))\n",
    "\n",
    "class Mortgage(object):\n",
    "    def __init__(self, loan, annRate, months):\n",
    "        \"\"\"Create a new mortgage\"\"\"\n",
    "        self.loan = loan\n",
    "        self.rate = annRate/12.0\n",
    "        self.months = months\n",
    "        self.paid = [0.0]\n",
    "        self.owed = [loan]\n",
    "        self.payment = findPayment(loan, self.rate, months)\n",
    "        self.legend = None\n",
    "    def makePayment(self):\n",
    "        \"\"\"Make a payment\"\"\"\n",
    "        self.paid.append(self.payment)\n",
    "        reduction = self.payment - self.owed[-1]*self.rate\n",
    "        self.owed.append(self.owed[-1] - reduction)\n",
    "    def getTotalPaid(self):\n",
    "        \"\"\"Return the total amount paid so far\"\"\"\n",
    "        return sum(self.paid)\n",
    "    def __str__(self):\n",
    "        return self.legend\n",
    "    \n",
    "class Fixed(Mortgage):\n",
    "    def __init__(self, loan, r, months):\n",
    "        Mortgage.__init__(self, loan, r, months)\n",
    "        self.legend = 'Fixed, ' + str(r*100) + '%'\n",
    "            \n",
    "class FixedWithPts(Mortgage):\n",
    "    def __init__(self, loan, r, months, pts):\n",
    "        Mortgage.__init__(self, loan, r, months)\n",
    "        self.pts = pts\n",
    "        self.paid = [loan*(pts/100.0)]\n",
    "        self.legend = 'Fixed, ' + str(100) + '%, '\\\n",
    "                      + str(pts) + ' points'\n",
    "            \n",
    "class TwoRate(Mortgage):\n",
    "    def __init__(self, loan, r, months, teaserRate, teaserMonths):\n",
    "        self.teaserMonths = teaserMonths\n",
    "        self.teaserRate = teaserRate\n",
    "        self.nextRate = r/12.0\n",
    "        self.legend = str(teasterRate*100)\\\n",
    "                      + '% for ' + str(self.teaserMonths)\\\n",
    "                      + ' months, then ' + str(r*100) + '%'\n",
    "            \n",
    "    def makePayment(self):\n",
    "        if len(self.paid) == self.teaserMonths + 1:\n",
    "            self.rate = self.nextRate\n",
    "            self.payment = findPayment(self.owed[-1], self.rate,\n",
    "                                       self.months - self.teaserMonths)\n",
    "            Mortgage.makePayment(self)\n",
    "\n",
    "def compareMortgages(amt, years, fixedRate, pts, ptsRate\n",
    "                     varRate1, varRate2, varMonths):\n",
    "    totMonths = years*12\n",
    "    fixed1 = Fixed(amt, fixedRate, toMonths)\n",
    "    "
   ]
  },
  {
   "cell_type": "code",
   "execution_count": null,
   "metadata": {
    "collapsed": true
   },
   "outputs": [],
   "source": []
  }
 ],
 "metadata": {
  "kernelspec": {
   "display_name": "Python 3",
   "language": "python",
   "name": "python3"
  },
  "language_info": {
   "codemirror_mode": {
    "name": "ipython",
    "version": 3
   },
   "file_extension": ".py",
   "mimetype": "text/x-python",
   "name": "python",
   "nbconvert_exporter": "python",
   "pygments_lexer": "ipython3",
   "version": "3.5.1"
  }
 },
 "nbformat": 4,
 "nbformat_minor": 0
}
